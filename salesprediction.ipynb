{
  "nbformat": 4,
  "nbformat_minor": 0,
  "metadata": {
    "colab": {
      "name": "salesprediction.ipynb",
      "provenance": []
    },
    "kernelspec": {
      "name": "python3",
      "display_name": "Python 3"
    },
    "language_info": {
      "name": "python"
    }
  },
  "cells": [
    {
      "cell_type": "code",
      "execution_count": 1,
      "metadata": {
        "id": "jOl5eUUU1z_u"
      },
      "outputs": [],
      "source": [
        "import pandas as pd\n",
        "import numpy as np"
      ]
    },
    {
      "cell_type": "code",
      "source": [
        "from google.colab import files\n",
        "uploaded = files.upload()"
      ],
      "metadata": {
        "colab": {
          "resources": {
            "http://localhost:8080/nbextensions/google.colab/files.js": {
              "data": "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",
              "ok": true,
              "headers": [
                [
                  "content-type",
                  "application/javascript"
                ]
              ],
              "status": 200,
              "status_text": ""
            }
          },
          "base_uri": "https://localhost:8080/",
          "height": 73
        },
        "id": "SPV2KQbb2BpB",
        "outputId": "d3f63b85-9d6b-4822-bbdf-635094c198b3"
      },
      "execution_count": 4,
      "outputs": [
        {
          "output_type": "display_data",
          "data": {
            "text/plain": [
              "<IPython.core.display.HTML object>"
            ],
            "text/html": [
              "\n",
              "     <input type=\"file\" id=\"files-91eb3106-5134-4763-8ae3-a9c2549bd997\" name=\"files[]\" multiple disabled\n",
              "        style=\"border:none\" />\n",
              "     <output id=\"result-91eb3106-5134-4763-8ae3-a9c2549bd997\">\n",
              "      Upload widget is only available when the cell has been executed in the\n",
              "      current browser session. Please rerun this cell to enable.\n",
              "      </output>\n",
              "      <script src=\"/nbextensions/google.colab/files.js\"></script> "
            ]
          },
          "metadata": {}
        },
        {
          "output_type": "stream",
          "name": "stdout",
          "text": [
            "Saving sale.csv to sale.csv\n"
          ]
        }
      ]
    },
    {
      "cell_type": "code",
      "source": [
        "dataset = pd.read_csv('sale.csv')\n",
        "print(dataset)"
      ],
      "metadata": {
        "colab": {
          "base_uri": "https://localhost:8080/"
        },
        "id": "C-dpGKWl2Ov0",
        "outputId": "e6690fb9-bfca-49bb-c6b7-6d9b5eef9647"
      },
      "execution_count": 5,
      "outputs": [
        {
          "output_type": "stream",
          "name": "stdout",
          "text": [
            "    Age  Salary  Status\n",
            "0    18   25000       0\n",
            "1    24   24000       1\n",
            "2    33   12000       1\n",
            "3    45   28000       0\n",
            "4    21   85000       0\n",
            "..  ...     ...     ...\n",
            "94   38   25200       1\n",
            "95   23   78400       0\n",
            "96   41   34500       0\n",
            "97   46   51000       0\n",
            "98   34   28000       1\n",
            "\n",
            "[99 rows x 3 columns]\n"
          ]
        }
      ]
    },
    {
      "cell_type": "code",
      "source": [
        "print(dataset.shape)\n",
        "print(dataset.head(5))"
      ],
      "metadata": {
        "colab": {
          "base_uri": "https://localhost:8080/"
        },
        "id": "M408pp_n3ejG",
        "outputId": "2f023eb6-eeb5-463c-f309-b4ab5f78c560"
      },
      "execution_count": 6,
      "outputs": [
        {
          "output_type": "stream",
          "name": "stdout",
          "text": [
            "(99, 3)\n",
            "   Age  Salary  Status\n",
            "0   18   25000       0\n",
            "1   24   24000       1\n",
            "2   33   12000       1\n",
            "3   45   28000       0\n",
            "4   21   85000       0\n"
          ]
        }
      ]
    },
    {
      "cell_type": "code",
      "source": [
        "X = dataset.iloc[:,:-1].values\n",
        "X"
      ],
      "metadata": {
        "colab": {
          "base_uri": "https://localhost:8080/"
        },
        "id": "9Onz86gm3tGF",
        "outputId": "d6e1ffd7-061b-4cf7-ecc5-48d23b52d87f"
      },
      "execution_count": 7,
      "outputs": [
        {
          "output_type": "execute_result",
          "data": {
            "text/plain": [
              "array([[   18, 25000],\n",
              "       [   24, 24000],\n",
              "       [   33, 12000],\n",
              "       [   45, 28000],\n",
              "       [   21, 85000],\n",
              "       [   23, 91000],\n",
              "       [   34, 22000],\n",
              "       [   54, 52000],\n",
              "       [   33, 43000],\n",
              "       [   23, 25000],\n",
              "       [   43, 44000],\n",
              "       [   54, 25000],\n",
              "       [   42, 29000],\n",
              "       [   19, 55000],\n",
              "       [   25, 67000],\n",
              "       [   35, 25000],\n",
              "       [   27, 76000],\n",
              "       [   29, 91000],\n",
              "       [   30, 23000],\n",
              "       [   34, 53000],\n",
              "       [   52, 28000],\n",
              "       [   22, 20000],\n",
              "       [   34, 25700],\n",
              "       [   21, 62000],\n",
              "       [   22, 84000],\n",
              "       [   54, 19000],\n",
              "       [   34, 25000],\n",
              "       [   55, 57000],\n",
              "       [   50, 54000],\n",
              "       [   24, 28000],\n",
              "       [   26, 15000],\n",
              "       [   29, 26000],\n",
              "       [   42, 25000],\n",
              "       [   19, 76000],\n",
              "       [   25, 91000],\n",
              "       [   35, 23000],\n",
              "       [   27, 53000],\n",
              "       [   29, 28000],\n",
              "       [   30, 20000],\n",
              "       [   34, 25700],\n",
              "       [   52, 62000],\n",
              "       [   22, 84000],\n",
              "       [   18, 25000],\n",
              "       [   24, 22000],\n",
              "       [   33, 52000],\n",
              "       [   45, 43000],\n",
              "       [   21, 25000],\n",
              "       [   23, 44000],\n",
              "       [   34, 25000],\n",
              "       [   54, 29000],\n",
              "       [   33, 55000],\n",
              "       [   23, 67000],\n",
              "       [   43, 25000],\n",
              "       [   54, 76000],\n",
              "       [   42, 91000],\n",
              "       [   19, 23000],\n",
              "       [   25, 43000],\n",
              "       [   35, 57000],\n",
              "       [   22, 25000],\n",
              "       [   35, 76000],\n",
              "       [   19, 55000],\n",
              "       [   18, 35000],\n",
              "       [   25, 54000],\n",
              "       [   32, 67000],\n",
              "       [   31, 89000],\n",
              "       [   27, 12000],\n",
              "       [   29, 44000],\n",
              "       [   30, 67000],\n",
              "       [   34, 22000],\n",
              "       [   52, 66000],\n",
              "       [   22, 25000],\n",
              "       [   18, 71000],\n",
              "       [   24, 27000],\n",
              "       [   33, 32000],\n",
              "       [   45, 63000],\n",
              "       [   21, 23000],\n",
              "       [   23, 64000],\n",
              "       [   34, 17000],\n",
              "       [   32, 28000],\n",
              "       [   33, 72000],\n",
              "       [   43, 24000],\n",
              "       [   41, 28000],\n",
              "       [   42, 32000],\n",
              "       [   54, 19000],\n",
              "       [   51, 27000],\n",
              "       [   26, 85000],\n",
              "       [   37, 92000],\n",
              "       [   32, 45000],\n",
              "       [   29, 63000],\n",
              "       [   18, 62000],\n",
              "       [   36, 23000],\n",
              "       [   47, 17000],\n",
              "       [   50, 34000],\n",
              "       [   40, 25900],\n",
              "       [   38, 25200],\n",
              "       [   23, 78400],\n",
              "       [   41, 34500],\n",
              "       [   46, 51000],\n",
              "       [   34, 28000]])"
            ]
          },
          "metadata": {},
          "execution_count": 7
        }
      ]
    },
    {
      "cell_type": "code",
      "source": [
        "Y = dataset.iloc[:,-1]\n",
        "Y"
      ],
      "metadata": {
        "colab": {
          "base_uri": "https://localhost:8080/"
        },
        "id": "uKdRGLOD3_8i",
        "outputId": "b5b58ae4-8239-45e4-967e-afd8aa6bb6d7"
      },
      "execution_count": 8,
      "outputs": [
        {
          "output_type": "execute_result",
          "data": {
            "text/plain": [
              "0     0\n",
              "1     1\n",
              "2     1\n",
              "3     0\n",
              "4     0\n",
              "     ..\n",
              "94    1\n",
              "95    0\n",
              "96    0\n",
              "97    0\n",
              "98    1\n",
              "Name: Status, Length: 99, dtype: int64"
            ]
          },
          "metadata": {},
          "execution_count": 8
        }
      ]
    },
    {
      "cell_type": "code",
      "source": [
        "from sklearn.model_selection import train_test_split\n",
        "X_train,X_test,Y_train,Y_test = train_test_split(X,Y,test_size = 0.25,random_state=0)"
      ],
      "metadata": {
        "id": "ymzRbaMp4IjE"
      },
      "execution_count": 9,
      "outputs": []
    },
    {
      "cell_type": "code",
      "source": [
        "from sklearn.preprocessing import StandardScaler\n",
        "sc = StandardScaler()\n",
        "X_train = sc.fit_transform(X_train)\n",
        "X_test = sc.transform(X_test)\n",
        "print(X_train)"
      ],
      "metadata": {
        "colab": {
          "base_uri": "https://localhost:8080/"
        },
        "id": "gmjEaaMq5Cn0",
        "outputId": "862cf00a-ee3d-4f95-f82b-33aa14dc95c8"
      },
      "execution_count": 13,
      "outputs": [
        {
          "output_type": "stream",
          "name": "stdout",
          "text": [
            "[[ 0.08937387 -0.83524771]\n",
            " [ 0.08937387 -0.96927372]\n",
            " [ 0.08937387 -0.70122169]\n",
            " [ 0.84522148 -0.52252034]\n",
            " [-0.94991659  0.90709048]\n",
            " [-1.3278404   0.50501244]\n",
            " [ 0.93970244 -0.87992305]\n",
            " [-1.42232135  0.81773981]\n",
            " [ 0.08937387 -0.96927372]\n",
            " [-0.94991659  1.0411165 ]\n",
            " [ 2.07347385  0.59436311]\n",
            " [-0.28854993 -0.92459838]\n",
            " [-0.76095469 -0.03109162]\n",
            " [-0.09958803  1.0411165 ]\n",
            " [ 1.12866434  0.86241514]\n",
            " [-0.85543564 -0.87992305]\n",
            " [-1.42232135 -0.38849433]\n",
            " [-1.42232135 -0.83524771]\n",
            " [-1.04439754  1.80059725]\n",
            " [-1.1388785   1.84527258]\n",
            " [ 0.18385482 -0.83524771]\n",
            " [-0.38303088  2.11332461]\n",
            " [ 1.790031    0.81773981]\n",
            " [-0.28854993 -1.0586244 ]\n",
            " [-0.94991659  2.11332461]\n",
            " [ 0.27833578 -0.92459838]\n",
            " [ 0.18385482  1.44319454]\n",
            " [-1.42232135 -0.83524771]\n",
            " [-0.76095469  2.11332461]\n",
            " [ 1.6010691   0.4603371 ]\n",
            " [-0.00510708  0.50501244]\n",
            " [ 1.9789929  -0.83524771]\n",
            " [ 0.18385482 -0.92459838]\n",
            " [-1.1388785   0.81773981]\n",
            " [ 0.93970244 -0.83524771]\n",
            " [ 0.93970244  0.01358372]\n",
            " [-0.38303088 -0.79057237]\n",
            " [-0.38303088  0.01358372]\n",
            " [ 0.18385482  0.59436311]\n",
            " [-0.00510708  1.26449319]\n",
            " [-0.66647374  1.84527258]\n",
            " [ 0.84522148 -0.83524771]\n",
            " [ 1.69555005 -0.74589703]\n",
            " [-0.76095469  1.0411165 ]\n",
            " [-0.38303088  0.86241514]\n",
            " [ 0.08937387  0.41566176]\n",
            " [-0.85543564 -0.70122169]\n",
            " [ 1.9789929  -0.65654636]\n",
            " [ 0.75074053 -0.410832  ]\n",
            " [ 1.22314529  0.32631109]\n",
            " [ 1.790031    0.99644116]\n",
            " [ 1.790031   -0.70122169]\n",
            " [ 0.65625958 -0.7950399 ]\n",
            " [-0.85543564 -0.74589703]\n",
            " [ 0.08937387 -1.19265041]\n",
            " [ 1.9789929  -1.10329974]\n",
            " [-0.38303088 -0.70122169]\n",
            " [ 0.75074053 -0.70122169]\n",
            " [-1.1388785  -0.83524771]\n",
            " [ 0.08937387 -0.80397497]\n",
            " [-0.57199279 -1.4160271 ]\n",
            " [-1.04439754 -0.83524771]\n",
            " [ 0.84522148 -0.65654636]\n",
            " [-1.04439754 -0.83524771]\n",
            " [-0.09958803  0.05825906]\n",
            " [-0.57199279  0.41566176]\n",
            " [-1.04439754 -1.0586244 ]\n",
            " [ 1.9789929  -1.10329974]\n",
            " [-0.94991659 -0.83524771]\n",
            " [-0.94991659  1.55041535]\n",
            " [-0.28854993  1.0411165 ]\n",
            " [-0.19406898  2.02397394]\n",
            " [-0.94991659  0.01358372]\n",
            " [-0.00510708  0.37098642]]\n"
          ]
        }
      ]
    },
    {
      "cell_type": "code",
      "source": [
        "from sklearn.linear_model import LogisticRegression\n",
        "model = LogisticRegression()\n",
        "model.fit(X_train,Y_train)"
      ],
      "metadata": {
        "colab": {
          "base_uri": "https://localhost:8080/"
        },
        "id": "uwSI_EIm5Crh",
        "outputId": "4ae1d723-6b18-4d85-c0a7-cc4f3a8b9545"
      },
      "execution_count": 15,
      "outputs": [
        {
          "output_type": "execute_result",
          "data": {
            "text/plain": [
              "LogisticRegression()"
            ]
          },
          "metadata": {},
          "execution_count": 15
        }
      ]
    },
    {
      "cell_type": "code",
      "source": [
        "age = int(input(\"enter the customers age: \"))\n",
        "sal = int(input(\"enter the customers salary: \"))\n",
        "newCust = [[age,sal]]\n",
        "result = model.predict(sc.transform(newCust))\n",
        "print(result)\n",
        "if result == 1 :\n",
        "  print(\"Customer will buy\")\n",
        "else:\n",
        "  print(\"Customer will not buy\")"
      ],
      "metadata": {
        "colab": {
          "base_uri": "https://localhost:8080/"
        },
        "id": "aR6CoT7b6R6f",
        "outputId": "d59369b2-78fa-4ab9-81b7-d21cacbc6ebb"
      },
      "execution_count": 20,
      "outputs": [
        {
          "output_type": "stream",
          "name": "stdout",
          "text": [
            "enter the customers age: 43\n",
            "enter the customers salary: 44000\n",
            "[0]\n",
            "Customer will not buy\n"
          ]
        }
      ]
    },
    {
      "cell_type": "code",
      "source": [
        "y_pred = model.predict(X_test)"
      ],
      "metadata": {
        "id": "5YZuBJoR6SD1"
      },
      "execution_count": 18,
      "outputs": []
    },
    {
      "cell_type": "code",
      "source": [
        "from sklearn.metrics import confusion_matrix,accuracy_score\n",
        "cm = confusion_matrix(Y_test,y_pred)\n",
        "print(\"Confusion matrix: \")\n",
        "print(cm)\n",
        "print(\"Accuracy of the model ; {0}% \".format(accuracy_score(Y_test,y_pred)*100))"
      ],
      "metadata": {
        "colab": {
          "base_uri": "https://localhost:8080/"
        },
        "id": "JiMXpwZu6SUx",
        "outputId": "cbc70b6a-ece8-4730-c06c-9f6f6eb47f7a"
      },
      "execution_count": 19,
      "outputs": [
        {
          "output_type": "stream",
          "name": "stdout",
          "text": [
            "Confusion matrix: \n",
            "[[ 9  1]\n",
            " [13  2]]\n",
            "Accuracy of the model ; 44.0% \n"
          ]
        }
      ]
    }
  ]
}